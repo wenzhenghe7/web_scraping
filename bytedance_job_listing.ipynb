{
  "nbformat": 4,
  "nbformat_minor": 0,
  "metadata": {
    "colab": {
      "name": "bytedance_job_listing.ipynb",
      "provenance": [],
      "authorship_tag": "ABX9TyPHQ+qc7TSIC4It6WY2mIzh",
      "include_colab_link": true
    },
    "kernelspec": {
      "name": "python3",
      "display_name": "Python 3"
    }
  },
  "cells": [
    {
      "cell_type": "markdown",
      "metadata": {
        "id": "view-in-github",
        "colab_type": "text"
      },
      "source": [
        "<a href=\"https://colab.research.google.com/github/wenzhenghe7/web_scraping/blob/main/bytedance_job_listing.ipynb\" target=\"_parent\"><img src=\"https://colab.research.google.com/assets/colab-badge.svg\" alt=\"Open In Colab\"/></a>"
      ]
    },
    {
      "cell_type": "code",
      "metadata": {
        "id": "HEoZqqB4G_o4",
        "outputId": "bbc4dd75-4de8-4b05-e3d3-04014c59725b",
        "colab": {
          "base_uri": "https://localhost:8080/",
          "height": 34
        }
      },
      "source": [
        "!pip install beautifulsoup4"
      ],
      "execution_count": null,
      "outputs": [
        {
          "output_type": "stream",
          "text": [
            "Requirement already satisfied: beautifulsoup4 in /usr/local/lib/python3.6/dist-packages (4.6.3)\n"
          ],
          "name": "stdout"
        }
      ]
    },
    {
      "cell_type": "code",
      "metadata": {
        "id": "iPPqFdTyQzfd"
      },
      "source": [
        "!pip install fake_useragent"
      ],
      "execution_count": null,
      "outputs": []
    },
    {
      "cell_type": "code",
      "metadata": {
        "id": "UE_wh3-UXoTJ"
      },
      "source": [
        "!pip install selenium\n",
        "!apt-get update \n",
        "!apt install chromium-chromedriver\n",
        "\n",
        "from selenium import webdriver\n",
        "chrome_options = webdriver.ChromeOptions()\n",
        "chrome_options.add_argument('--headless')\n",
        "chrome_options.add_argument('--no-sandbox')\n",
        "chrome_options.add_argument('--disable-dev-shm-usage')\n",
        "wd = webdriver.Chrome('chromedriver',chrome_options=chrome_options)\n",
        "driver =webdriver.Chrome('chromedriver',chrome_options=chrome_options)"
      ],
      "execution_count": null,
      "outputs": []
    },
    {
      "cell_type": "code",
      "metadata": {
        "id": "BPvzIO_KIvgj"
      },
      "source": [
        "from bs4 import BeautifulSoup\n",
        "import requests\n",
        "import csv\n",
        "from fake_useragent import UserAgent\n",
        "import urllib.request\n",
        "import csv"
      ],
      "execution_count": null,
      "outputs": []
    },
    {
      "cell_type": "code",
      "metadata": {
        "id": "P1hgKPLKsPL5",
        "outputId": "8052ded1-565c-4624-d072-aeef240be5d6",
        "colab": {
          "base_uri": "https://localhost:8080/",
          "height": 34
        }
      },
      "source": [
        "import os\n",
        "os.remove(\"bytedance_data_beijing_jobs.csv\")\n",
        "csv_file = open('bytedance_data_beijing_jobs.csv', 'a+', newline='', encoding='utf-8-sig')\n",
        "csv_writer = csv.writer(csv_file)\n",
        "csv_writer.writerow(['id', 'title', 'link',\"location\",\"category\",\"type\"])"
      ],
      "execution_count": null,
      "outputs": [
        {
          "output_type": "execute_result",
          "data": {
            "text/plain": [
              "38"
            ]
          },
          "metadata": {
            "tags": []
          },
          "execution_count": 126
        }
      ]
    },
    {
      "cell_type": "code",
      "metadata": {
        "id": "lrMlgPx4QoN-"
      },
      "source": [
        "# ua = UserAgent()\n",
        "# print(ua.chrome)\n",
        "# header = {'User-Agent':str(ua.chrome)}\n",
        "# print(header)"
      ],
      "execution_count": null,
      "outputs": []
    },
    {
      "cell_type": "code",
      "metadata": {
        "id": "eWS8Ui5xPeVc"
      },
      "source": [
        "# url = 'https://job.bytedance.com/society/position?keywords=&category=&location=&project=&type=&job_hot_flag=&current=1&limit=500'\n",
        "# headers = {'User-Agent': 'Mozilla/5.0 (Macintosh; Intel Mac OS X 10_10_1) AppleWebKit/537.36 (KHTML, like Gecko) Chrome/39.0.2171.95 Safari/537.36'}\n",
        "\n",
        "# source = requests.get(\"/bytedance_jobs.html\", headers=header).text\n",
        "# soup = BeautifulSoup(source, 'html.parser')\n",
        "soup = BeautifulSoup(open(\"bytedance_beijing_data_jobs.html\"), \"html.parser\")\n",
        "# driver.get(url)\n",
        "# html = driver.page_source\n",
        "# soup = BeautifulSoup(html)"
      ],
      "execution_count": null,
      "outputs": []
    },
    {
      "cell_type": "code",
      "metadata": {
        "id": "qvNc5BxEKrt6"
      },
      "source": [
        "# print(soup.prettify())"
      ],
      "execution_count": null,
      "outputs": []
    },
    {
      "cell_type": "code",
      "metadata": {
        "id": "ao_w2_7NhimB"
      },
      "source": [
        "listItems = soup.find(\"div\", class_=\"listItems__1q9i5\")"
      ],
      "execution_count": null,
      "outputs": []
    },
    {
      "cell_type": "code",
      "metadata": {
        "id": "4cJnwq5EKyUw"
      },
      "source": [
        "# for a in listItems.find_all(\"a\"):\n",
        "#   print(a)\n",
        "#   break"
      ],
      "execution_count": null,
      "outputs": []
    },
    {
      "cell_type": "code",
      "metadata": {
        "id": "wh22bn_9ZThW"
      },
      "source": [
        "for a in listItems.find_all(\"a\"):\n",
        "  # print(a['href'])\n",
        "  id = str(a['data-id'])\n",
        "  link = \"https://job.bytedance.com\"+a['href']\n",
        "  title = a.div.find(\"div\",\n",
        "                     class_=\"title__37NOe positionItem-title sofiaBold\").span.text.replace(\" \",\"\").replace(\"\\n\",\"\")\n",
        "  info = a.div.find(\"div\", class_=\"subTitle__3sRa3 positionItem-subTitle\").text\n",
        "  location = info[0:2]\n",
        "  cat = info[2:-2]\n",
        "  type = info[-2:]\n",
        "  desc = a.div.find(\"div\", \n",
        "                    class_=\"jobDesc__3ZDgU positionItem-jobDesc\").text.replace(\" \",\"\")\n",
        "  print(title)\n",
        "  # print(id)\n",
        "  # print(location, cat, type)\n",
        "  # print(link)\n",
        "  # print(desc)\n",
        "  # print()\n",
        "  csv_writer.writerow([id, title, link, location, cat, type])\n",
        "  # print(f\"{id} done\")"
      ],
      "execution_count": null,
      "outputs": []
    },
    {
      "cell_type": "code",
      "metadata": {
        "id": "TzjfDvthl2CX"
      },
      "source": [
        "csv_file.close()"
      ],
      "execution_count": null,
      "outputs": []
    },
    {
      "cell_type": "code",
      "metadata": {
        "id": "PCrfNop8s-Ea"
      },
      "source": [
        ""
      ],
      "execution_count": null,
      "outputs": []
    }
  ]
}