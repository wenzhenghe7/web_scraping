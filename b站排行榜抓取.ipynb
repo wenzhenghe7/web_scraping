{
  "nbformat": 4,
  "nbformat_minor": 0,
  "metadata": {
    "colab": {
      "name": "b站排行榜抓取.ipynb",
      "provenance": [],
      "collapsed_sections": [],
      "authorship_tag": "ABX9TyNwY3NpqiKksZ+dLUfQd67s",
      "include_colab_link": true
    },
    "kernelspec": {
      "name": "python3",
      "display_name": "Python 3"
    }
  },
  "cells": [
    {
      "cell_type": "markdown",
      "metadata": {
        "id": "view-in-github",
        "colab_type": "text"
      },
      "source": [
        "<a href=\"https://colab.research.google.com/github/wenzhenghe7/web_scraping/blob/main/b%E7%AB%99%E6%8E%92%E8%A1%8C%E6%A6%9C%E6%8A%93%E5%8F%96.ipynb\" target=\"_parent\"><img src=\"https://colab.research.google.com/assets/colab-badge.svg\" alt=\"Open In Colab\"/></a>"
      ]
    },
    {
      "cell_type": "code",
      "metadata": {
        "id": "gG6r2mf1AwKM"
      },
      "source": [
        "!pip install bilibili_api\n",
        "from bs4 import BeautifulSoup\n",
        "import requests\n",
        "from openpyxl import Workbook\n",
        "from bilibili_api import user\n",
        "import time\n",
        "import os\n",
        "import sys\n",
        "import smtplib\n",
        "from email import encoders\n",
        "from email.mime.text import MIMEText\n",
        "from email.mime.base import MIMEBase\n",
        "from email.mime.multipart import MIMEMultipart"
      ],
      "execution_count": null,
      "outputs": []
    },
    {
      "cell_type": "code",
      "metadata": {
        "id": "HCUnkoTT3FCH"
      },
      "source": [
        "def get_top_100(n_limit = 100, if_get_up_detail = True, follower_limit = 200000, first_video_gap = 90):\n",
        "    source = requests.get(\"https://www.bilibili.com/v/popular/rank/all\").text\n",
        "    soup = BeautifulSoup(source, 'html.parser')\n",
        "    ranking_info = []\n",
        "    for i,item in enumerate(soup.find_all('div', {'class': 'info'})):\n",
        "        if i+1 > n_limit:\n",
        "            break\n",
        "        temp_1 = item.find_all('span', {'class' : 'data-box'})\n",
        "        temp_2 = item.find_all('a')\n",
        "        rank = i+1\n",
        "        link = item.a['href'][2:]\n",
        "        title = item.a.text\n",
        "        play = temp_1[0].text.strip()\n",
        "        view = temp_1[1].text.strip()\n",
        "        author = temp_1[2].text.strip()\n",
        "        pts = item.find('div', {'class' : 'pts'}).div.text\n",
        "        author_page = temp_2[1]['href'][2:]\n",
        "        author_id = author_page[19:]\n",
        "        output_info = [rank,link,title,play, view, author, pts, author_page, author_id]\n",
        "        if if_get_up_detail:\n",
        "            auther_detail = user.get_relation_info(int(author_id))\n",
        "        if auther_detail['follower'] <= follower_limit:\n",
        "            video_detail = user.get_videos(int(author_id))\n",
        "            first_po_time = min([i['created'] for i in video_detail])\n",
        "            if (time.time()-first_po_time)/(24*60*60) <= first_video_gap:\n",
        "                first_po_time_format = time.strftime(\"%Y-%m-%d %H:%M:%S\", time.localtime(int(first_po_time)))\n",
        "                output_info.append(auther_detail['follower'])\n",
        "                output_info.append(first_po_time_format)\n",
        "                ranking_info.append(output_info)\n",
        "            else:\n",
        "                continue\n",
        "        else:\n",
        "            continue\n",
        "        print('排名第{}位符合要求'.format(rank))\n",
        "    return ranking_info\n",
        "def export_video_list_excel(video_list):\n",
        "    wb = Workbook(write_only=True)\n",
        "    ws = []\n",
        "    ws.append(wb.create_sheet(title='bili_top_100'))\n",
        "    ws[0].append(['排名', '视频链接', '标题', '播放数', '弹幕数', 'up主', '综合得分','up主链接','up主id','粉丝数','首视频日期'])\n",
        "    for bl in video_list:\n",
        "      ws[0].append(bl)\n",
        "    save_path = 'bilibili_top_100_'\n",
        "    # save_path += time.strftime(time.ctime())\n",
        "    save_path += time.strftime(\"%Y-%m-%d\", time.localtime())\n",
        "    save_path += '.xlsx'\n",
        "    wb.save(save_path)\n",
        "    print('xlsx文档生成完毕')\n",
        "    return save_path\n",
        "def send_mail(sub,content,mail_to,fileList):\n",
        "    mail_host='smtp.163.com'\n",
        "    mail_user='autowebscrapper@163.com'\n",
        "    mail_pass='GTRVVSQEADSVACSG'\n",
        "    mail_to_list=mail_to.split(',')\n",
        " \n",
        "    msg = MIMEMultipart()\n",
        "    #msg=MIMEText(content,_charset='utf-8')\n",
        "    msg['Subject']=sub\n",
        "    msg['From']=mail_user\n",
        "    msg['To']=\";\".join(mail_to_list)\n",
        "    msg.attach(MIMEText(content,_charset='utf-8'))\n",
        " \n",
        "    files=fileList.split(',')\n",
        "    for f in files:\n",
        "        part = MIMEBase('application', 'octet-stream') #'octet-stream': binary data\n",
        "        part.set_payload(open(f, 'rb').read())\n",
        "        encoders.encode_base64(part)\n",
        "        part.add_header('Content-Disposition', 'attachment; filename=\"%s\"' % os.path.basename(f).encode('utf-8'))\n",
        "        msg.attach(part)\n",
        " \n",
        "    try:\n",
        "        s=smtplib.SMTP_SSL()\n",
        "        s.connect(mail_host,port = 994)\n",
        "        s.login(mail_user,mail_pass)\n",
        "        s.sendmail(mail_user,mail_to_list,msg.as_string())\n",
        "        s.close()\n",
        "        return '发送成功'\n",
        "    except Exception as e:\n",
        "        print(str(e))\n",
        "        return '发送失败'\n",
        " \n"
      ],
      "execution_count": null,
      "outputs": []
    },
    {
      "cell_type": "code",
      "metadata": {
        "id": "vrwI9ieRBDML",
        "outputId": "f11be546-e5c3-4e2a-b125-db9e31a946bc",
        "colab": {
          "base_uri": "https://localhost:8080/",
          "height": 51
        }
      },
      "source": [
        "result = get_top_100()"
      ],
      "execution_count": null,
      "outputs": [
        {
          "output_type": "stream",
          "text": [
            "排名 46 符合要求\n",
            "排名 64 符合要求\n"
          ],
          "name": "stdout"
        }
      ]
    },
    {
      "cell_type": "code",
      "metadata": {
        "id": "OxJVAUVHtXqg",
        "outputId": "93c1916d-6fcb-49ea-d42c-9340095395c0",
        "colab": {
          "base_uri": "https://localhost:8080/",
          "height": 34
        }
      },
      "source": [
        "save_path = export_video_list_excel(result)"
      ],
      "execution_count": null,
      "outputs": [
        {
          "output_type": "stream",
          "text": [
            "xlsx文档生成完毕\n"
          ],
          "name": "stdout"
        }
      ]
    },
    {
      "cell_type": "code",
      "metadata": {
        "id": "2ZJAQWWAtWjc",
        "outputId": "df8a4739-c0ca-4426-a1e4-c918bf049d16",
        "colab": {
          "base_uri": "https://localhost:8080/",
          "height": 35
        }
      },
      "source": [
        "send_mail(save_path, '请下载附件','elninozou@me.com',save_path)"
      ],
      "execution_count": null,
      "outputs": [
        {
          "output_type": "execute_result",
          "data": {
            "application/vnd.google.colaboratory.intrinsic+json": {
              "type": "string"
            },
            "text/plain": [
              "'发送成功'"
            ]
          },
          "metadata": {
            "tags": []
          },
          "execution_count": 43
        }
      ]
    }
  ]
}